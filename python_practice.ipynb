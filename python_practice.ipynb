{
 "cells": [
  {
   "cell_type": "code",
   "execution_count": 4,
   "metadata": {
    "id": "1DQ2hPvS2jG6"
   },
   "outputs": [
    {
     "name": "stdout",
     "output_type": "stream",
     "text": [
      "gmail\n"
     ]
    }
   ],
   "source": [
    "# Python Assignment\n",
    "N=\"asd@gmail.com\"\n",
    "val=N.split(\"@\")[1]\n",
    "#print(val)\n",
    "print(val.split(\".\")[0])\n"
   ]
  },
  {
   "cell_type": "markdown",
   "metadata": {
    "id": "zq4cgMUp3r5D"
   },
   "source": [
    "**take an email as input from the user and print the domain name of that.**"
   ]
  },
  {
   "cell_type": "code",
   "execution_count": 6,
   "metadata": {
    "id": "q0XjY8rL26X8"
   },
   "outputs": [
    {
     "name": "stdout",
     "output_type": "stream",
     "text": [
      "10\n",
      "9\n",
      "8\n",
      "7\n",
      "6\n",
      "5\n",
      "4\n",
      "3\n",
      "2\n",
      "1\n"
     ]
    }
   ],
   "source": [
    "for i in range(10,0,-1):\n",
    "    print(i)"
   ]
  },
  {
   "cell_type": "markdown",
   "metadata": {
    "id": "n-Th6TUr4I-i"
   },
   "source": [
    "**print values from 10 to 1.**"
   ]
  },
  {
   "cell_type": "code",
   "execution_count": null,
   "metadata": {
    "id": "8ngm1iVn4jw8"
   },
   "outputs": [],
   "source": []
  },
  {
   "cell_type": "markdown",
   "metadata": {
    "id": "EgtagXU44kDv"
   },
   "source": [
    "**print out a set containing all the colors from color_palette_1 which are not present in color_palette_2**"
   ]
  },
  {
   "cell_type": "code",
   "execution_count": null,
   "metadata": {
    "id": "gOBQ6gRl6uvY"
   },
   "outputs": [],
   "source": [
    "color_palette_1 = set([\"White\", \"Black\", \"Red\"]) \n",
    "color_palette_2 = set([\"Red\", \"Green\"])\n"
   ]
  },
  {
   "cell_type": "markdown",
   "metadata": {
    "id": "OnHUzxih7b-y"
   },
   "source": [
    "**compute the distance between the points (x1, y1) and (x2, y2)**"
   ]
  },
  {
   "cell_type": "code",
   "execution_count": 10,
   "metadata": {
    "id": "x8oSuPQ17kYj"
   },
   "outputs": [
    {
     "name": "stdout",
     "output_type": "stream",
     "text": [
      "6.324555320336759\n"
     ]
    }
   ],
   "source": [
    "from math import *\n",
    "tuple_1 = (3,5)\n",
    "tuple_2 = (9,7)\n",
    "\n",
    "#print(tuple_2[0])\n",
    "res=sqrt((tuple_2[0] - tuple_1[0])**2+(tuple_2[1] - tuple_1[1])**2)\n",
    "print(res)\n"
   ]
  },
  {
   "cell_type": "markdown",
   "metadata": {
    "id": "81HQ8Ozn7vgH"
   },
   "source": [
    "**print all the even numbers upto 100.**"
   ]
  },
  {
   "cell_type": "code",
   "execution_count": null,
   "metadata": {
    "id": "o_5GaEo8-rYZ"
   },
   "outputs": [],
   "source": [
    "for i in range(0,101,2):\n",
    "    "
   ]
  },
  {
   "cell_type": "markdown",
   "metadata": {
    "id": "D95qyb8R-0OW"
   },
   "source": [
    "**find the maximum and minimum values in a given heterogeneous list.\n",
    "Original list:\n",
    "['Hello', 1, 7, 6, 8, 'version']\n",
    "Maximum and Minimum values in the said list:\n",
    "(8, 7)**"
   ]
  },
  {
   "cell_type": "code",
   "execution_count": 14,
   "metadata": {
    "id": "kJWFSJTK_oy7"
   },
   "outputs": [
    {
     "name": "stdout",
     "output_type": "stream",
     "text": [
      "1 8\n"
     ]
    }
   ],
   "source": [
    "lst=['Hello', 1, 7, 6, 8, 'version']\n",
    "\n",
    "mini,maxi = None,None\n",
    "\n",
    "for item in lst:\n",
    "    \n",
    "    if type(item) is int:\n",
    "        \n",
    "        if mini is None:\n",
    "            \n",
    "            mini = item\n",
    "            maxi =item\n",
    "            \n",
    "        else:\n",
    "            \n",
    "            if mini > item:\n",
    "                mini = item\n",
    "                \n",
    "            if maxi < item:\n",
    "                maxi = item\n",
    "    else:\n",
    "        pass\n",
    "        \n",
    "print(mini,maxi)  \n",
    "        \n"
   ]
  },
  {
   "cell_type": "markdown",
   "metadata": {
    "id": "ZA_-Dq11Aw6s"
   },
   "source": [
    "**concatenate following dictionaries to create a new one.**"
   ]
  },
  {
   "cell_type": "code",
   "execution_count": 17,
   "metadata": {
    "id": "6WvGl90WBUmx"
   },
   "outputs": [
    {
     "name": "stdout",
     "output_type": "stream",
     "text": [
      "{1: 10, 2: 20, 3: 30, 4: 40, 5: 50, 6: 60}\n"
     ]
    }
   ],
   "source": [
    "dic1={1:10, 2:20} \n",
    "dic2={3:30, 4:40} \n",
    "dic3={5:50,6:60}\n",
    "dic1.update(dic2)\n",
    "dic1.update(dic3)\n",
    "print(dic1)"
   ]
  },
  {
   "cell_type": "markdown",
   "metadata": {
    "id": "KLgpGxTwBeUD"
   },
   "source": [
    "**create a dictionary from a string.\n",
    "Note: Track the count of the letters from the string.\n",
    "Sample string : 'motorsport'\n",
    "Expected output: {'m': 1, 'o': 3, 't': 2, 'r': 2, 's': 1, 'p': 1,}**"
   ]
  },
  {
   "cell_type": "code",
   "execution_count": 18,
   "metadata": {
    "id": "BswCfDRHBode"
   },
   "outputs": [
    {
     "name": "stdout",
     "output_type": "stream",
     "text": [
      "{'m': 1, 'o': 3, 't': 2, 'r': 2, 's': 1, 'p': 1}\n"
     ]
    }
   ],
   "source": [
    "s=\"motorsport\"\n",
    "\n",
    "d={}\n",
    "for char in s:\n",
    "    d[char]=d.get(char,0)+1\n",
    "print(d)"
   ]
  },
  {
   "cell_type": "markdown",
   "metadata": {
    "id": "a9pJ3XPaE15W"
   },
   "source": [
    "**read a text file and print all the lines that has word \"Texas\".**"
   ]
  },
  {
   "cell_type": "code",
   "execution_count": null,
   "metadata": {
    "id": "kx7By4YEFWgP"
   },
   "outputs": [],
   "source": [
    "# Hint : create a text file, it should contain text which may have lines of text which includes texas as a word"
   ]
  },
  {
   "cell_type": "markdown",
   "metadata": {
    "id": "8TLCM-Iid-a1"
   },
   "source": [
    "**print armstrong number from 1 to 100**"
   ]
  },
  {
   "cell_type": "code",
   "execution_count": 21,
   "metadata": {
    "id": "n2rHQku7eJPu"
   },
   "outputs": [
    {
     "name": "stdout",
     "output_type": "stream",
     "text": [
      "153\n"
     ]
    }
   ],
   "source": [
    "n = 153\n",
    "temp = n\n",
    "sum_total = 0\n",
    "\n",
    "while(n):\n",
    "    \n",
    "    rem = n % 10\n",
    "    n = n // 10\n",
    "    \n",
    "    sum_total = sum_total + rem**3\n",
    "    \n",
    "if temp == sum_total:\n",
    "    print(sum_total)\n",
    "    "
   ]
  },
  {
   "cell_type": "markdown",
   "metadata": {
    "id": "aLhGU7leeHnY"
   },
   "source": [
    "**print sum of digits of a number which is taken as input**"
   ]
  },
  {
   "cell_type": "code",
   "execution_count": null,
   "metadata": {
    "id": "Z3ZJQgnKeS6H"
   },
   "outputs": [],
   "source": []
  }
 ],
 "metadata": {
  "colab": {
   "name": "python_practice.ipynb",
   "provenance": []
  },
  "kernelspec": {
   "display_name": "Python 3",
   "language": "python",
   "name": "python3"
  },
  "language_info": {
   "codemirror_mode": {
    "name": "ipython",
    "version": 3
   },
   "file_extension": ".py",
   "mimetype": "text/x-python",
   "name": "python",
   "nbconvert_exporter": "python",
   "pygments_lexer": "ipython3",
   "version": "3.7.4"
  }
 },
 "nbformat": 4,
 "nbformat_minor": 1
}
